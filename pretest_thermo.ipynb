{
 "cells": [
  {
   "attachments": {},
   "cell_type": "markdown",
   "metadata": {},
   "source": [
    "# 事前テスト　解答例"
   ]
  },
  {
   "attachments": {},
   "cell_type": "markdown",
   "metadata": {
    "slideshow": {
     "slide_type": "slide"
    }
   },
   "source": [
    "(1) 気体が閉じ込められた断面積100 cm $^2$のシリンダーに重さ2 kNのピストンが載せられて釣り合っている．外界からガスに熱が加えられてピストンが15 cm上昇したとき，気体が外界に対しておこなう仕事はいくらか．ただし，大気圧は0.1 MPaとする．"
   ]
  },
  {
   "cell_type": "code",
   "execution_count": 11,
   "metadata": {
    "slideshow": {
     "slide_type": "subslide"
    }
   },
   "outputs": [
    {
     "name": "stdout",
     "output_type": "stream",
     "text": [
      "答え：4.50e+02 J"
     ]
    }
   ],
   "source": [
    "using Printf\n",
    "F = 2e3 #N\n",
    "S = 100*1e-4 #m^2\n",
    "p = F/S + 0.1e6 #Pa\n",
    "ΔV = S*15e-2 #m^3\n",
    "W = p*ΔV #J\n",
    "#println(\"答え：\", round(W, sigdigits=3),\" J\")\n",
    "@printf \"答え：%.2e J\" round(W, sigdigits=3)"
   ]
  },
  {
   "attachments": {},
   "cell_type": "markdown",
   "metadata": {
    "slideshow": {
     "slide_type": "slide"
    }
   },
   "source": [
    "(2) ディーゼルサイクルで圧縮前の圧力を0.1 MPa，温度を300 K，圧縮比を18，等圧加熱時の供給熱量を2100 kJ/kgとする．このとき，最高圧力，最高温度，理論熱効率をそれぞれ求めなさい．ただし，作動ガスの気体定数は0.287 kJ/(kg K)，比熱比は1.40とする．"
   ]
  },
  {
   "cell_type": "code",
   "execution_count": 12,
   "metadata": {
    "slideshow": {
     "slide_type": "fragment"
    }
   },
   "outputs": [
    {
     "name": "stdout",
     "output_type": "stream",
     "text": [
      "最高圧力5.72 MPa\n",
      "圧縮後の温度953.0 K\n",
      "最高温度3040.0 K\n",
      "理論熱効率0.582\n"
     ]
    }
   ],
   "source": [
    "p1 = 0.1e6 #Pa\n",
    "T1 = 300 #K\n",
    "ε=18.0\n",
    "q = 2100e3 #J/kg\n",
    "R = 0.287e3 #J/(kg K)\n",
    "κ=1.40\n",
    "\n",
    "cv=R/(κ-1)\n",
    "cp = cv*κ\n",
    "\n",
    "p2 = p1*ε^κ\n",
    "println(\"最高圧力\",round(p2/1e6; sigdigits=3),\" MPa\")\n",
    "\n",
    "T2 = T1*ε^(κ-1)\n",
    "println(\"圧縮後の温度\",round(T2; sigdigits=3),\" K\")\n",
    "\n",
    "T3 = q/cp+T2\n",
    "println(\"最高温度\",round(T3; sigdigits=3),\" K\")\n",
    "\n",
    "σ=T3/T2 #締切比\n",
    "\n",
    "η=1-(σ^κ-1)/(κ*ε^(κ-1)*(σ-1))\n",
    "println(\"理論熱効率\",round(η; sigdigits=3))\n"
   ]
  },
  {
   "attachments": {},
   "cell_type": "markdown",
   "metadata": {
    "slideshow": {
     "slide_type": "slide"
    }
   },
   "source": [
    "等圧条件下で80℃の空気5 kgと40℃の空気10 kgを混合させた．周囲への熱損失がないとき，混合後の温度を求めなさい．また，混合前後のエントロピー変化量を計算し，混合が不可逆変化であることを確かめなさい．なお，空気の定圧比熱を1.005 kJ/(kg K)とする．"
   ]
  },
  {
   "cell_type": "code",
   "execution_count": 13,
   "metadata": {
    "slideshow": {
     "slide_type": "fragment"
    }
   },
   "outputs": [
    {
     "name": "stdout",
     "output_type": "stream",
     "text": [
      "混合後の温度53.3℃\n",
      "混合前後のエントロピー変化24.5 J/K\n"
     ]
    }
   ],
   "source": [
    "cp = 1.005e3 # J/(kg K)\n",
    "\n",
    "G1 = 5 # kg\n",
    "T1 = 80 + 273.15 # K\n",
    "G2 = 10 # kg\n",
    "T2 = 40 + 273.15 # K\n",
    "\n",
    "G = G1 + G2\n",
    "Tf = (G1*T1+G2*T2)/G\n",
    "println(\"混合後の温度\",round(Tf-273.15; sigdigits=3),\"℃\")\n",
    "\n",
    "ΔS1 = G1*cp*log(Tf/T1)\n",
    "ΔS2 = G2*cp*log(Tf/T2)\n",
    "ΔS = ΔS1+ΔS2\n",
    "println(\"混合前後のエントロピー変化\",round(ΔS; sigdigits=3),\" J/K\")\n"
   ]
  },
  {
   "attachments": {},
   "cell_type": "markdown",
   "metadata": {},
   "source": [
    "以上のように，断熱変化であるにも関わらず，系のエントロピーが増加していることから，混合過程が不可逆過程であることがわかる．"
   ]
  },
  {
   "cell_type": "markdown",
   "metadata": {},
   "source": []
  }
 ],
 "metadata": {
  "celltoolbar": "Slideshow",
  "interpreter": {
   "hash": "0c2b074999451dc9029a31bd0b5fd14aac2902b2bd912d1e8b2887ab757fd942"
  },
  "kernelspec": {
   "display_name": "Julia 1.8.5",
   "language": "julia",
   "name": "julia-1.8"
  },
  "language_info": {
   "file_extension": ".jl",
   "mimetype": "application/julia",
   "name": "julia",
   "version": "1.8.5"
  }
 },
 "nbformat": 4,
 "nbformat_minor": 4
}
