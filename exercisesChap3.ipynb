{
 "cells": [
  {
   "attachments": {},
   "cell_type": "markdown",
   "metadata": {},
   "source": [
    "**演習問題[3.1]**　テキスト参照"
   ]
  },
  {
   "attachments": {},
   "cell_type": "markdown",
   "metadata": {},
   "source": [
    "**解答例**\n",
    "\n",
    "変化の前後の気体の内部エネルギーをそれぞれ$U_1$, $U_2$とし，熱力学の第１法則を適用すると\n",
    "$$U_2 - U_1 = 0 + p_1 V_1 - p_2 V_2$$\n",
    "$$U_2 + p_2 V_2 = U_1 + p_1 V_1$$\n",
    "ここで，エンタルピーを$H = U+pV$とおけば\n",
    "$$H_2 = H_1$$\n",
    "すなわち，変化前後でエンタルピーは変化しないことがわかる．"
   ]
  },
  {
   "cell_type": "markdown",
   "metadata": {
    "slideshow": {
     "slide_type": "slide"
    }
   },
   "source": [
    "**演習問題[3.2]**：あるコンプレッサーが100 kPa, 280 Kの空気（比エンタルピー：280 kJ/kg）を定常的に600 kPa, 400 K（比エンタルピー：400 kJ/kg）に圧縮している．空気の質量流量は20.0 g/sで，この過程で16.0 kJ/kgの熱損失が生じている．コンプレッサーの入口と出口の間での運動エネルギーとポテンシャルエネルギーの変化が無視できると仮定して，コンプレッサーに必要な動力を求めなさい．"
   ]
  },
  {
   "attachments": {},
   "cell_type": "markdown",
   "metadata": {},
   "source": [
    "**解答例**\n",
    "\n",
    "コンプレッサーから得る空気単位質量当たりの工業仕事を$w_t$，空気単位質量当たりの熱損失を$q$，入口と出口における空気の比エンタルピーをそれぞれ$h_1$, $h_2$とおくとき，開いた系に対する熱力学の第１法則を適用すると，次式が成り立つ．\n",
    "$$h_2 - h_1 = -q + w_t$$\n",
    "すなわち\n",
    "$$w_t = q +(h_2-h_1)$$\n",
    "\n",
    "よって，コンプレッサーに必要な動力$P$は，質量流量を$\\dot{m}$とすると\n",
    "$$P = \\dot{m}w_t$$\n",
    "\n",
    "与えられた数値を代入すると，以下の通り解答が得られる．"
   ]
  },
  {
   "cell_type": "code",
   "execution_count": null,
   "metadata": {},
   "outputs": [],
   "source": []
  },
  {
   "cell_type": "code",
   "execution_count": 5,
   "metadata": {
    "slideshow": {
     "slide_type": "subslide"
    }
   },
   "outputs": [
    {
     "name": "stdout",
     "output_type": "stream",
     "text": [
      "必要動力 2.72 kW\n"
     ]
    }
   ],
   "source": [
    "wt = 16.0 + (400 - 280) #kJ/kg\n",
    "mdot = 20.0e-3 #kg/s\n",
    "P = wt*mdot\n",
    "println(\"必要動力 \",P,\" kW\")"
   ]
  }
 ],
 "metadata": {
  "celltoolbar": "Slideshow",
  "interpreter": {
   "hash": "0c2b074999451dc9029a31bd0b5fd14aac2902b2bd912d1e8b2887ab757fd942"
  },
  "kernelspec": {
   "display_name": "Julia 1.8.5",
   "language": "julia",
   "name": "julia-1.8"
  },
  "language_info": {
   "file_extension": ".jl",
   "mimetype": "application/julia",
   "name": "julia",
   "version": "1.8.5"
  }
 },
 "nbformat": 4,
 "nbformat_minor": 4
}
