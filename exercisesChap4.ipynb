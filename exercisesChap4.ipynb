{
 "cells": [
  {
   "attachments": {},
   "cell_type": "markdown",
   "metadata": {
    "slideshow": {
     "slide_type": "slide"
    }
   },
   "source": [
    "**演習問題[4.1]**：ピストンとシリンダーによって0.2 kgの水素（分子量$M=2$ kg/kmol)が閉じ込められている．最初シリンダー内の温度は30℃，圧力2 barで，これを60℃まで加熱した．普遍気体定数を$R_0 = 8.3143$ J/(mol・K）とし，加熱前後の体積を求めなさい．"
   ]
  },
  {
   "attachments": {},
   "cell_type": "markdown",
   "metadata": {},
   "source": [
    "**解答例**\n",
    "\n",
    "質量を$G$，単位質量当たりの気体定数を$R$, 圧力を$p$, 初期温度を$T_1$, 最終温度を$T_2$，加熱前後の体積をそれぞれ\n",
    "$V_1$, $V_2$とする．加熱中ピストンが自由に動けるので，圧力は一定に保たれる．このとき，\n",
    "状態方程式\n",
    "$$pV_1 = GRT_1, \\quad pV_2 = GRT_2$$\n",
    "より\n",
    "$$V_1 = \\frac{GRT_1}{p}$$\n",
    "$$V_2 = \\frac{GRT_2}{p}$$\n",
    "ここで，$$R = R_0/M$$\n",
    "\n",
    "与えられた数値を代入すると，次のようにして解答が得られる．"
   ]
  },
  {
   "cell_type": "code",
   "execution_count": 19,
   "metadata": {
    "slideshow": {
     "slide_type": "fragment"
    }
   },
   "outputs": [
    {
     "name": "stdout",
     "output_type": "stream",
     "text": [
      "V_1 =1.26 m^3\n",
      "V_2 =1.38 m^3\n"
     ]
    }
   ],
   "source": [
    "G = 0.2 #kg\n",
    "R0 = 8.3143e3 #J/(kmol K)\n",
    "M = 2 #kg/kmol\n",
    "R = R0/M #J/(kg K)\n",
    "T1 = 273.15+30 #K\n",
    "T2 = 273.15+60 #K\n",
    "p = 2e5 #Pa\n",
    "V1 = G*R*T1/p\n",
    "println(\"V_1 =\", round(V1; sigdigits=3), \" m^3\")\n",
    "V2 = G*R*T2/p\n",
    "println(\"V_2 =\", round(V2; sigdigits=3),\" m^3\")"
   ]
  },
  {
   "attachments": {},
   "cell_type": "markdown",
   "metadata": {
    "slideshow": {
     "slide_type": "slide"
    }
   },
   "source": [
    "**演習問題[4.2]**：内径450 mmのピストンとシリンダーによって体積0.1 m $^3$, 温度15℃，圧力0.1 MPaの空気が閉じ込められている．いま，ピストンが0.2 m押し込まれて空気の圧力が0.3 MPaになったとき，空気の温度を求めなさい．"
   ]
  },
  {
   "attachments": {},
   "cell_type": "markdown",
   "metadata": {},
   "source": [
    "**解答例**\n",
    "\n",
    "ピストンの内径を$d$，変化前の体積，温度，圧力をそれぞれ$V_1$, $T_1$, $p_1$とし，変化後の体積，温度，圧力をそれぞれ\n",
    "$V_2$, $T_2$, $p_2$とする．空気の質量を$G$, 気体定数を$R$とするとき，状態方程式\n",
    "$$p_1 V_1 = GRT_1$$\n",
    "より\n",
    "$$GR = p_1V_1/T_1$$\n",
    "\n",
    "ピストンの移動距離を$L$とすると，体積減少量は\n",
    "$$\\Delta V = \\frac{\\pi d^2}{4}L$$\n",
    "となる．よって\n",
    "$$V_2 = V_1 - \\Delta V$$\n",
    "変化後の状態方程式を考えると\n",
    "$$p_2 V_2 = GR T_2$$\n",
    "となるので\n",
    "$$T_2 = \\frac{p_2 V_2}{GR}$$\n",
    "\n",
    "以下のように，与えられた数値を代入すると解答が得られる．"
   ]
  },
  {
   "cell_type": "code",
   "execution_count": 20,
   "metadata": {
    "slideshow": {
     "slide_type": "fragment"
    }
   },
   "outputs": [
    {
     "name": "stdout",
     "output_type": "stream",
     "text": [
      "589.0 K\n"
     ]
    }
   ],
   "source": [
    "d = 450e-3 #m\n",
    "V1 = 0.1 #m^3\n",
    "T1 = 15+273.15 #K\n",
    "p1 = 0.1e6 #Pa\n",
    "GR = p1*V1/T1\n",
    "L = 0.2 # m\n",
    "ΔV = 0.25*pi*d^2*L\n",
    "V2 = V1-ΔV\n",
    "p2 = 0.3e6 #Pa\n",
    "T2 = p2*V2/GR\n",
    "println(round(T2; sigdigits=3),\" K\")"
   ]
  },
  {
   "attachments": {},
   "cell_type": "markdown",
   "metadata": {
    "slideshow": {
     "slide_type": "slide"
    }
   },
   "source": [
    "**演習問題[4.3]**：3 kgの空気が30℃から400℃に加熱された．\n",
    "内部エネルギーとエンタルピーの変化量をそれぞれ求めなさい．\n",
    "ただし，空気の比熱比を1.402，気体定数を0.28706 kJ/(kg K)とする．"
   ]
  },
  {
   "attachments": {},
   "cell_type": "markdown",
   "metadata": {},
   "source": [
    "**解答例**\n",
    "\n",
    "空気の質量を$G$，気体定数を$R$, 定積比熱を$c_v$, 定圧比熱を$c_p$, 比熱比を$\\kappa$とする．また，温度，内部エネルギー，エンタルピーの増加量をそれぞれ$\\Delta T$，$\\Delta U$, $\\Delta H$とすると，以下のように計算して求めることができる．"
   ]
  },
  {
   "cell_type": "code",
   "execution_count": 21,
   "metadata": {
    "slideshow": {
     "slide_type": "fragment"
    }
   },
   "outputs": [
    {
     "name": "stdout",
     "output_type": "stream",
     "text": [
      "内部エネルギーの変化量 792.6 kJ\n",
      "エンタルピーの変化量 1111.0 kJ\n"
     ]
    }
   ],
   "source": [
    "G = 3 #kg\n",
    "#T1 = 30+273.15 #K\n",
    "#T2 = 400+273.15 #K\n",
    "ΔT = 400-30\n",
    "kappa = 1.402\n",
    "R = 0.28706e3 #J/(kg K)\n",
    "cv = R/(kappa-1)\n",
    "cp = kappa*R/(kappa-1)\n",
    "ΔU = G*cv*ΔT\n",
    "println(\"内部エネルギーの変化量 \", round(ΔU/1000; sigdigits=4),\" kJ\")\n",
    "ΔH = G*cp*ΔT\n",
    "println(\"エンタルピーの変化量 \",round(ΔH/1000; sigdigits=4),\" kJ\")"
   ]
  },
  {
   "cell_type": "markdown",
   "metadata": {
    "slideshow": {
     "slide_type": "slide"
    }
   },
   "source": [
    "**演習問題[4.5]**：15℃の空気2 kgが等圧膨張によって体積が2倍になった．このとき，以下の各設問に答えなさい．ただし，空気の気体定数を287.06 J/(kg K)，比熱比を1.4として求めること．\n",
    "1. 温度は何℃まで上げれば良いか，答えなさい．\n",
    "1. 外界にした仕事と外界から得た熱量を求めなさい．"
   ]
  },
  {
   "attachments": {},
   "cell_type": "markdown",
   "metadata": {},
   "source": [
    "**解答例**\n",
    "\n",
    "空気の初期温度を$T_1$, 質量を$G$，気体定数を$R$, 比熱比を$\\kappa$とする．\n",
    "\n",
    "1. 等圧変化において温度と体積は比例するので，膨張後の温度を$T_2$とすると\n",
    "$$T_2 = 2T_1$$ \n",
    "\n",
    "2. 等圧変化において系が外界にした仕事$W$は\n",
    "   $$W = p(V_2-V_1) = GR(T_2 - T_1)$$\n",
    "   となる．また，系が外界から得た熱$Q$は\n",
    "   $$Q = G c_p (T_2-T_1)$$\n",
    "\n",
    "以上の関係に，与えられた数値を代入すると以下のようにして解答を得ることができる．\n",
    "   "
   ]
  },
  {
   "cell_type": "code",
   "execution_count": 22,
   "metadata": {
    "slideshow": {
     "slide_type": "fragment"
    }
   },
   "outputs": [
    {
     "name": "stdout",
     "output_type": "stream",
     "text": [
      "変化後の温度　303.15℃\n",
      "仕事 165.0 kJ\n",
      "熱 579.0 kJ\n"
     ]
    }
   ],
   "source": [
    "T1 = 15+273.15 #K\n",
    "G = 2 #kg\n",
    "R = 287.06 #J/(kg K)\n",
    "kappa = 1.4\n",
    "\n",
    "T2 = T1*2\n",
    "println(\"変化後の温度　\", (T2-273.15),\"℃\")\n",
    "\n",
    "cv = R/(kappa-1)\n",
    "cp = kappa*cv\n",
    "\n",
    "W = G*R*(T2-T1)/1000 #kJ\n",
    "println(\"仕事 \",round(W; sigdigits=3),\" kJ\")\n",
    "\n",
    "Q = G*cp*(T2-T1)/1000 #kJ\n",
    "println(\"熱 \",round(Q; sigdigits=3),\" kJ\")"
   ]
  },
  {
   "attachments": {},
   "cell_type": "markdown",
   "metadata": {
    "slideshow": {
     "slide_type": "slide"
    }
   },
   "source": [
    "**演習問題[4.6]** 圧力0.1 MPa，温度15℃の空気3 kgが断熱圧縮されて元の1/5の体積になった．このとき，以下の値を求めなさい．ただし，空気の比熱比を1.4，気体定数を287.06 J/(kg K)とする．\n",
    "1. 圧縮後の圧力\n",
    "1. 圧縮後の温度\n",
    "1. 圧縮するために使われた仕事"
   ]
  },
  {
   "attachments": {},
   "cell_type": "markdown",
   "metadata": {},
   "source": [
    "**解答例**\n",
    "\n",
    "初期の圧力，温度，体積をそれぞれ$p_1$, $T_1$, $V_1$とし，圧縮後の圧力，温度，体積をそれぞれ$p_2$, $T_2$, $V_2$とする．また，空気の比熱比を$\\kappa$，気体定数を$R$とする．\n",
    "\n",
    "断熱変化において，変化前後の圧力比と体積比との関係は\n",
    "$$\\frac{p_2}{p_1} =\\left(\\frac{V_2}{V_1} \\right)^{-\\kappa}$$\n",
    "また，温度比と体積比との関係は\n",
    "$$\\frac{T_2}{T_1} =\\left(\\frac{V_2}{V_1} \\right)^{(1-\\kappa)}$$\n",
    "となる．\n",
    "\n",
    "一方，断熱変化において系が外界になす仕事は次式で与えられる．\n",
    "$$W = G c_v (T_2-T_1)$$\n",
    "ここで$G$は空気の質量，$c_v$は定積比熱であり，\n",
    "$$c_v = \\frac{R}{\\kappa-1}$$\n",
    "となる．\n",
    "\n",
    "以上の関係に数値を代入すると，以下の通りとなる．"
   ]
  },
  {
   "cell_type": "code",
   "execution_count": 23,
   "metadata": {
    "slideshow": {
     "slide_type": "fragment"
    }
   },
   "outputs": [
    {
     "name": "stdout",
     "output_type": "stream",
     "text": [
      "圧縮後の圧力　0.952 MPa\n",
      "圧縮後の温度　275.0 ℃\n",
      "圧縮仕事　561.0 kJ\n"
     ]
    }
   ],
   "source": [
    "p1=0.1e6 # Pa\n",
    "T1=15+273.15 # K\n",
    "V12=1/5 # V2/V1\n",
    "G = 3 #kg\n",
    "R = 287.06 #J/(kg K)\n",
    "κ=1.4 #specific heat ratio\n",
    "\n",
    "p2 = p1*V12^(-κ)\n",
    "println(\"圧縮後の圧力　\", round(p2/1e6; sigdigits=3),\" MPa\")\n",
    "\n",
    "T2 = T1*V12^(1-κ)\n",
    "println(\"圧縮後の温度　\",round(T2-273.15;sigdigits=3),\" ℃\")\n",
    "\n",
    "cv = R/(κ-1)\n",
    "W = G*cv*(T2-T1)\n",
    "println(\"圧縮仕事　\",round(W/1000; sigdigits=3),\" kJ\")\n"
   ]
  },
  {
   "attachments": {},
   "cell_type": "markdown",
   "metadata": {
    "slideshow": {
     "slide_type": "slide"
    }
   },
   "source": [
    "**演習問題[4.7]** 4.0 MPa, 1800℃の空気2 kgが膨張し，その体積が8倍になった．この状態変化がポリトロープ指数1.35のポリトロープ変化だとして，以下の値を求めなさい．ただし，空気の比熱比を1.4, 気体定数を287.06 J/(kg K)とすること．\n",
    "1. 膨張後の圧力\n",
    "1. 膨張後の温度\n",
    "1. 外界に対して行なった仕事\n",
    "1. 外界から得た熱量\n",
    "1. 内部エネルギーの変化量\n",
    "1. エンタルピーの変化量"
   ]
  },
  {
   "attachments": {},
   "cell_type": "markdown",
   "metadata": {},
   "source": [
    "**解答例**\n",
    "\n",
    "空気の質量を$G$, 比熱比を$\\kappa$, 気体定数を$R$とする．また，初期圧力，初期温度，初期体積をそれぞれ$p_1$, $T_1$, $V_1$，変化後の圧力，温度，体積をそれぞれ$p_2$, $T_2$, $V_2$とおく．\n",
    "\n",
    "ポトリロープ指数を$n$とするとき，変化前後の圧力比と体積比との関係は\n",
    "$$\\frac{p_2}{p_1} =\\left(\\frac{V_2}{V_1} \\right)^{-n}$$\n",
    "また，温度比と体積比との関係は\n",
    "$$\\frac{T_2}{T_1} =\\left(\\frac{V_2}{V_1} \\right)^{(1-n)}$$\n",
    "となる．\n",
    "\n",
    "一方，ポリトロープ変化において系が外界になす仕事は次式で与えられる．\n",
    "$$W = \\frac{\\kappa -1}{n-1} G c_v (T_2-T_1)$$\n",
    "ここで$G$は空気の質量，$c_v$は定積比熱, $\\kappa$は比熱比であり，\n",
    "$$c_v = \\frac{R}{\\kappa-1}$$\n",
    "となる．\n",
    "\n",
    "また，内部エネルギーおよびエンタルピーの変化量はそれぞれ以下のように与えられる．\n",
    "$$\\Delta U = G c_v (T_2-T_1)$$\n",
    "$$\\Delta H = G c_p (T_2-T_1)$$\n",
    "熱力学の第一法則より，系に流入した熱$Q$は\n",
    "$$Q = \\Delta U + W$$\n",
    "となる．\n",
    "\n",
    "\n"
   ]
  },
  {
   "cell_type": "code",
   "execution_count": 27,
   "metadata": {
    "slideshow": {
     "slide_type": "fragment"
    }
   },
   "outputs": [
    {
     "name": "stdout",
     "output_type": "stream",
     "text": [
      "膨張後の圧力 241.0 kPa\n",
      "膨張後の温度 728.0 ℃\n",
      "仕事 1.76 MJ\n",
      "内部エネルギーの変化量 -1.54 MJ\n",
      "熱 220.0 kJ\n",
      "エンタルピーの変化量 -2.15 MJ\n"
     ]
    }
   ],
   "source": [
    "p1 = 4.0e6 #Pa\n",
    "T1 = 1800+273.15 #K\n",
    "G = 2 #kg\n",
    "V12 = 8 #V2/V1\n",
    "n = 1.35\n",
    "kappa = 1.4\n",
    "R = 287.06 #J/(kg K)\n",
    "\n",
    "cv = R/(kappa-1)\n",
    "cp = kappa*cv\n",
    "\n",
    "p2 = p1*V12^(-n)\n",
    "println(\"膨張後の圧力 \",round(p2/1e3;sigdigits=3), \" kPa\")\n",
    "\n",
    "T2 = T1*V12^(1-n)\n",
    "println(\"膨張後の温度 \",round(T2-273.15; sigdigits=3), \" ℃\")\n",
    "\n",
    "W = (kappa-1)/(n-1)*G*cv*(T1-T2)\n",
    "println(\"仕事 \",round(W/1e6; sigdigits=3), \" MJ\")\n",
    "\n",
    "ΔU=G*cv*(T2-T1)\n",
    "println(\"内部エネルギーの変化量 \",round(ΔU/1e6; sigdigits=3), \" MJ\")\n",
    "\n",
    "Q = ΔU+W\n",
    "println(\"熱 \",round(Q/1000; sigdigits=3), \" kJ\")\n",
    "\n",
    "ΔH=G*cp*(T2-T1)\n",
    "println(\"エンタルピーの変化量 \",round(ΔH/1e6; sigdigits=3), \" MJ\")\n"
   ]
  },
  {
   "attachments": {},
   "cell_type": "markdown",
   "metadata": {
    "slideshow": {
     "slide_type": "slide"
    }
   },
   "source": [
    "**演習問題[4.8]** 体積10 m $^3$の変形しない容器に\n",
    "酸素ガス(気体定数259.82 J/(kg K)) 2 kgと\n",
    "水素ガス(気体定数4157.15 J/(kg K)) 2kgからなる混合気体が入っている．\n",
    "両者が反応しないものとして，以下の設問に答えなさい．\n",
    "ただし，比熱比はいずれも1.4とすること．\n",
    "1. 温度が30℃のとき，それぞれの分圧を求めなさい．\n",
    "1. 容器内の圧力を5 barにするには，混合気体の温度をいくらにすればよいか．また，そのために必要な熱量を求めなさい．"
   ]
  },
  {
   "attachments": {},
   "cell_type": "markdown",
   "metadata": {},
   "source": [
    "**解答例**\n",
    "\n",
    "1. 酸素の質量を$G_{O_2}$, 気体定数を$R_{O_2}$，定積比熱を${c_v}_{O_2}$，\n",
    "水素の質量を$G_{H_2}$, 気体定数を$R_{H_2}$，定積比熱を${c_v}_{H_2}$とおくとき，\n",
    "$${c_v}_{O_2} = R_{O_2}/(\\kappa -1)$$\n",
    "$${c_v}_{H_2} = R_{H_2}/(\\kappa -1)$$\n",
    "\n",
    "容器の体積を$V$, 初期温度を$T_1$とするとき，酸素分圧$p_{O_2}$, 水素分圧$p_{H_2}$は\n",
    "以下のようになる．\n",
    "$$p_{O_2} = G_{O_2}R_{O_2}T_1/V$$\n",
    "$$p_{H_2} = G_{H_2}R_{H_2}T_1/V$$\n",
    "\n",
    "2. 混合気体の平均気体定数$R$および平均定積比熱$c_v$は次式によって与えれる．\n",
    "   $$R = g_{O_2} R_{O_2} + g_{H_2} R_{H_2}$$\n",
    "   $$c_v = g_{O_2} {c_v}_{O_2} + g_{H_2} {c_v}_{H_2}$$\n",
    "ここで，$g_{O_2} = G_{O_2}/G$, $g_{H_2}=G_{H_2}/G$（$G=G_{O_2}+ G_{H_2}$）は\n",
    "それぞれ酸素，水素の質量分率である．\n",
    "\n",
    "加熱後の温度，圧力をを$T_2$, $p_2$とするとき，状態方程式より\n",
    "$$T_2 = \\frac{p_2 V}{GR}$$\n",
    "となる．さらに，加熱量$Q$は次式により求められる．\n",
    "$$Q = Gc_v (T_2-T_1)$$"
   ]
  },
  {
   "cell_type": "code",
   "execution_count": 25,
   "metadata": {
    "slideshow": {
     "slide_type": "fragment"
    }
   },
   "outputs": [
    {
     "name": "stdout",
     "output_type": "stream",
     "text": [
      "酸素分圧　15.8 kPa\n",
      "水素分圧　252.0 kPa\n",
      "温度　293.0 ℃\n",
      "熱量　5.8 MJ\n"
     ]
    }
   ],
   "source": [
    "V = 10 #m^3\n",
    "kappa = 1.4\n",
    "\n",
    "GO2 = 2.0 # kg\n",
    "RO2 = 259.82 #J/(kg K)\n",
    "cvO2 = RO2/(kappa-1)\n",
    "\n",
    "GH2 = 2.0 # kg\n",
    "RH2 = 4157.15 #J/(kg K)\n",
    "cvH2 = RH2/(kappa-1)\n",
    "\n",
    "T1 = 30 + 273.15 #K\n",
    "pO2 = GO2*RO2*T1/V\n",
    "println(\"酸素分圧　\", round(pO2/1000; sigdigits=3), \" kPa\")\n",
    "\n",
    "pH2 = GH2*RH2*T1/V\n",
    "println(\"水素分圧　\", round(pH2/1000; sigdigits=3), \" kPa\")\n",
    "\n",
    "G = GO2+GH2\n",
    "g_O2 = GO2/G\n",
    "g_H2 = GH2/G\n",
    "\n",
    "R = g_O2*RO2 + g_H2*RH2 # J/(kg)\n",
    "\n",
    "p2 = 5e5 #Pa\n",
    "T2 = p2*V/(G*R)\n",
    "println(\"温度　\", round(T2-273.15; sigdigits=3), \" ℃\")\n",
    "\n",
    "cv = g_O2*cvO2+g_H2*cvH2\n",
    "Q = G * cv * (T2-T1)\n",
    "println(\"熱量　\", round(Q/1e6; sigdigits=3), \" MJ\")\n"
   ]
  }
 ],
 "metadata": {
  "celltoolbar": "Slideshow",
  "interpreter": {
   "hash": "0c2b074999451dc9029a31bd0b5fd14aac2902b2bd912d1e8b2887ab757fd942"
  },
  "kernelspec": {
   "display_name": "Julia 1.8.5",
   "language": "julia",
   "name": "julia-1.8"
  },
  "language_info": {
   "file_extension": ".jl",
   "mimetype": "application/julia",
   "name": "julia",
   "version": "1.8.5"
  }
 },
 "nbformat": 4,
 "nbformat_minor": 4
}
