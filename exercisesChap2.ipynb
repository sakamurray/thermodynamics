{
 "cells": [
  {
   "attachments": {},
   "cell_type": "markdown",
   "metadata": {},
   "source": [
    "**演習問題[2.1]**: 準静的な体積変化に伴う微小な仕事($d'W = pdV$)が全微分であるかどうか，調べなさい．"
   ]
  },
  {
   "attachments": {},
   "cell_type": "markdown",
   "metadata": {},
   "source": [
    "**解答例**：\n",
    "\n",
    "仕事$W$を圧力$p$および体積$V$の関数とみなす，すなわち$W=W(p, V)$と表すとき，仮に$W$が全微分可能であれば，\n",
    "以下の関係をみたす，2つの関数$P(p, V)$と$Q(p, V)$が存在する．\n",
    "$$dW = P(p, V)dV + Q(p, V)dp$$\n",
    "$$\\frac{\\partial P(p, V)}{\\partial p}=\\frac{\\partial Q(p, V)}{\\partial V}$$\n",
    "\n",
    "体積の微小変化$dV$に伴う微小な仕事は\n",
    "$$dW = pdV + 0 \\cdot dp$$\n",
    "と表すことができるので，$P(p, V)= p$, $Q(p, V)=0$とおいて，全微分となるための必要十分条件\n",
    "が成り立つかどうかを調べればよい．この場合，\n",
    "$$\\frac{\\partial P(p, V)}{\\partial p}=1$$\n",
    "$$\\frac{\\partial Q(p, V)}{\\partial V}=0$$\n",
    "であるので，必要十分条件を満たしておらず，$dW$は不完全微分であることがわかる（そのため，$d'W$と表記する）．"
   ]
  },
  {
   "attachments": {},
   "cell_type": "markdown",
   "metadata": {
    "slideshow": {
     "slide_type": "slide"
    }
   },
   "source": [
    "**演習問題[2.2]**：\n",
    "\n",
    "気体が閉じ込められた断面積100 cm $^2$のシリンダーに重さ2 kNのピストンが載せられて釣り合っている．外界からガスに熱が加えられてピストンが15 cm上昇したとき，気体が外界に対しておこなう仕事はいくらか．ただし，大気圧は0.1 MPaとする．"
   ]
  },
  {
   "attachments": {},
   "cell_type": "markdown",
   "metadata": {},
   "source": [
    "**解答例**：\n",
    "\n",
    "ピストンの断面積を$S$，ピストンにかかる力の大きさを$F$とし，ピストンにかかる圧力は$p=F/S+0.1 \\ \\mathrm{MPa}$となる．この圧力が一定に作用している状態で，体積変化が$\\Delta V$であれば，気体が外界に対して行う仕事$W$は次のように与えられる．\n",
    "$$W = p \\Delta V$$\n",
    "\n",
    "与えられた数値を代入して計算すると，以下の通りとなる．"
   ]
  },
  {
   "cell_type": "code",
   "execution_count": 6,
   "metadata": {
    "slideshow": {
     "slide_type": "subslide"
    }
   },
   "outputs": [
    {
     "name": "stdout",
     "output_type": "stream",
     "text": [
      "答え：4.50e+02 J"
     ]
    }
   ],
   "source": [
    "using Printf\n",
    "F = 2e3 #N\n",
    "S = 100*1e-4 #m^2\n",
    "p = F/S + 0.1e6 #Pa\n",
    "ΔV = S*15e-2 #m^3\n",
    "W = p*ΔV #J\n",
    "#println(\"答え：\", round(W, sigdigits=3),\" J\")\n",
    "@printf \"答え：%.2e J\" round(W, sigdigits=3)"
   ]
  },
  {
   "cell_type": "markdown",
   "metadata": {
    "slideshow": {
     "slide_type": "slide"
    }
   },
   "source": [
    "**演習問題[2.3]**：500 Wの電熱器で3分間水2 kgを熱した．電熱器の消費電力のうち50%が水の加熱に用いられたものとすると，水の温度はいくらになるか．ただし，水の初期温度は293 Kであり，水の比熱は4.18 kJ/kgで一定とする．"
   ]
  },
  {
   "attachments": {},
   "cell_type": "markdown",
   "metadata": {},
   "source": [
    "**解答例**：\n",
    "\n",
    "水に移動した熱を$Q$，水の比熱を$c$，水の質量を$m$，水の温度増分を$\\Delta T$とおくと\n",
    "$$\\Delta T = \\frac{Q}{m c}$$\n",
    "\n",
    "与えられた数値を代入して計算すると，以下の通りとなる．"
   ]
  },
  {
   "cell_type": "code",
   "execution_count": 2,
   "metadata": {
    "slideshow": {
     "slide_type": "subslide"
    }
   },
   "outputs": [
    {
     "name": "stdout",
     "output_type": "stream",
     "text": [
      "答え：2.98e+02 K"
     ]
    }
   ],
   "source": [
    "using Printf\n",
    "Q = 500*3*60*0.5 # J\n",
    "c = 4.18e3 #J/kg\n",
    "m = 2 # kg\n",
    "ΔT = Q/(c*m) # K\n",
    "T1 = 293 #K\n",
    "T = T1+ΔT\n",
    "@printf \"答え：%.2e K\" round(T, sigdigits=3)"
   ]
  }
 ],
 "metadata": {
  "celltoolbar": "Slideshow",
  "interpreter": {
   "hash": "0c2b074999451dc9029a31bd0b5fd14aac2902b2bd912d1e8b2887ab757fd942"
  },
  "kernelspec": {
   "display_name": "Julia 1.8.0",
   "language": "julia",
   "name": "julia-1.8"
  },
  "language_info": {
   "file_extension": ".jl",
   "mimetype": "application/julia",
   "name": "julia",
   "version": "1.8.0"
  }
 },
 "nbformat": 4,
 "nbformat_minor": 4
}
