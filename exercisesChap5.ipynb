{
 "cells": [
  {
   "attachments": {},
   "cell_type": "markdown",
   "metadata": {
    "slideshow": {
     "slide_type": "slide"
    }
   },
   "source": [
    "**演習問題[5.1]** ディーゼルサイクルで圧縮前の圧力を0.1 MPa，温度を300 K，圧縮比を18，等圧加熱時の供給熱量を2100 kJ/kgとする．\n",
    "このとき，最高圧力，最高温度，理論熱効率をそれぞれ求めなさい．ただし，作動ガスの気体定数は0.287 kJ/(kg K)，比熱比は1.40とする．"
   ]
  },
  {
   "attachments": {},
   "cell_type": "markdown",
   "metadata": {},
   "source": [
    "**解答例**\n",
    "\n",
    "圧縮前の圧力と圧縮後の圧力をそれぞれ$p_1$, $p_2$とし，圧縮比を$\\epsilon$とおくと\n",
    "$$p_2 = p_1 \\times \\epsilon^\\kappa$$\n",
    "ディーゼルサイクルではこの圧力が最高となる．\n",
    "\n",
    "同様に，圧縮前と圧縮後の温度をそれぞれ$T_1$, $T_2$とおくと\n",
    "$$T_2 = T_1 \\times \\epsilon^{\\kappa-1}$$\n",
    "等圧加熱後の温度は最高温度となるが，これを$T_3$とすれば，加熱量（単位質量当たり）を$q$，定圧比を$c_p$とおくと\n",
    "$$q = c_p (T_3-T_2)$$\n",
    "なので\n",
    "$$T_3 = \\frac{q}{c_p} + T_2$$\n",
    "ここで，気体定数を$R$, 比熱比を$\\kappa$とするとき，定圧比熱および定積比熱(それぞれ$c_p$, $c_v$)は以下のように表される．\n",
    "$$c_p = \\kappa c_v, \\qquad c_v = \\frac{R}{\\kappa-1}$$\n",
    "\n",
    "また，理論熱効率$\\eta$は次式で与えられる．\n",
    "$$\\eta = 1 - \\frac{\\varphi^\\kappa -1}{\\kappa \\epsilon^{\\kappa-1} (\\varphi-1)}$$\n",
    "ここで，$\\varphi$は締切比であり，$\\varphi = T_3/T_2$が成り立つ．\n",
    "\n",
    "与えられた数値を以上の関係に代入すると，求める値が次のようにして得られる．"
   ]
  },
  {
   "cell_type": "code",
   "execution_count": 5,
   "metadata": {
    "slideshow": {
     "slide_type": "fragment"
    }
   },
   "outputs": [
    {
     "name": "stdout",
     "output_type": "stream",
     "text": [
      "最高圧力5.72 MPa\n",
      "圧縮後の温度953.0 K\n",
      "最高温度3040.0 K\n",
      "理論熱効率0.582\n"
     ]
    }
   ],
   "source": [
    "p1 = 0.1e6 #Pa\n",
    "T1 = 300 #K\n",
    "ε=18.0\n",
    "q = 2100e3 #J/kg\n",
    "R = 0.287e3 #J/(kg K)\n",
    "κ=1.40\n",
    "\n",
    "cv=R/(κ-1)\n",
    "cp = cv*κ\n",
    "\n",
    "p2 = p1*ε^κ\n",
    "println(\"最高圧力\",round(p2/1e6; sigdigits=3),\" MPa\")\n",
    "\n",
    "T2 = T1*ε^(κ-1)\n",
    "println(\"圧縮後の温度\",round(T2; sigdigits=3),\" K\")\n",
    "\n",
    "T3 = q/cp+T2\n",
    "println(\"最高温度\",round(T3; sigdigits=3),\" K\")\n",
    "\n",
    "φ =T3/T2 #締切比\n",
    "\n",
    "η=1-(φ^κ-1)/(κ*ε^(κ-1)*(φ-1))\n",
    "println(\"理論熱効率\",round(η; sigdigits=3))\n"
   ]
  },
  {
   "attachments": {},
   "cell_type": "markdown",
   "metadata": {},
   "source": [
    "**演習問題[5.2]** 圧縮率が等しいとき，オットーサイクルの理論熱効率とディーゼルサイクルの理論熱効率の大小関係を調べなさい．"
   ]
  },
  {
   "attachments": {},
   "cell_type": "markdown",
   "metadata": {},
   "source": [
    "**解答例**"
   ]
  },
  {
   "attachments": {},
   "cell_type": "markdown",
   "metadata": {},
   "source": [
    "オットーサイクルとディーゼルサイクルの理論熱効率をそれぞれ$\\eta_o$, $\\eta_d$とおくと\n",
    "$$\\eta_o = 1 - \\frac{1}{\\epsilon^{\\kappa-1}}$$\n",
    "$$\\eta_d = 1 - \\frac{\\varphi^\\kappa -1}{\\kappa \\epsilon^{\\kappa-1} (\\varphi-1)}$$\n",
    "ここで，$\\epsilon$は圧縮比，$\\kappa$は気体の比熱比，$\\varphi$は締切比である．\n",
    "\n",
    "このとき，\n",
    "$$\\eta_o - \\eta_d = 1 - \\frac{1}{\\epsilon^{\\kappa-1}} - \\left(1 - \\frac{\\varphi^\\kappa -1}{\\kappa \\epsilon^{\\kappa-1} (\\varphi-1)} \\right)\n",
    "= \\frac{1}{\\epsilon^{\\kappa-1}} \\left( \\frac{\\varphi^\\kappa - 1}{\\kappa (\\varphi-1)} - 1\\right)$$\n",
    "\n",
    "ここで，締切比$\\varphi$の関数$f(\\varphi)$\n",
    "$$f(\\varphi) = \\frac{\\varphi^\\kappa - 1}{\\kappa (\\varphi-1)} - 1$$\n",
    "を考え，その増減を調べると，$\\varphi > 1$　に対して\n",
    "$f(\\varphi)>0$であることが確かめられる．\n",
    "\n",
    "以上より，同じ圧縮比，比熱比の場合，ディーゼルサイクルよりもオットーサイクルの方が熱効率が高いことがわかる．\n",
    "\n",
    "\n"
   ]
  }
 ],
 "metadata": {
  "celltoolbar": "Slideshow",
  "interpreter": {
   "hash": "0c2b074999451dc9029a31bd0b5fd14aac2902b2bd912d1e8b2887ab757fd942"
  },
  "kernelspec": {
   "display_name": "Julia 1.8.0",
   "language": "julia",
   "name": "julia-1.8"
  },
  "language_info": {
   "file_extension": ".jl",
   "mimetype": "application/julia",
   "name": "julia",
   "version": "1.8.0"
  }
 },
 "nbformat": 4,
 "nbformat_minor": 4
}
